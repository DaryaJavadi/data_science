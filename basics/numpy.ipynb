{
  "nbformat": 4,
  "nbformat_minor": 0,
  "metadata": {
    "colab": {
      "provenance": [],
      "authorship_tag": "ABX9TyNFqq8X6+iuF3WqBMb7glqf",
      "include_colab_link": true
    },
    "kernelspec": {
      "name": "python3",
      "display_name": "Python 3"
    },
    "language_info": {
      "name": "python"
    }
  },
  "cells": [
    {
      "cell_type": "markdown",
      "metadata": {
        "id": "view-in-github",
        "colab_type": "text"
      },
      "source": [
        "<a href=\"https://colab.research.google.com/github/DaryaJavadi/data_science/blob/main/basics/numpy.ipynb\" target=\"_parent\"><img src=\"https://colab.research.google.com/assets/colab-badge.svg\" alt=\"Open In Colab\"/></a>"
      ]
    },
    {
      "cell_type": "code",
      "execution_count": null,
      "metadata": {
        "id": "OjnGIDkEtCL5"
      },
      "outputs": [],
      "source": [
        "import numpy as np"
      ]
    },
    {
      "cell_type": "code",
      "source": [
        "a1 = np.array([1,2,3])\n",
        "a1.ndim, a1.shape, a1.dtype, type(a1), a1.size"
      ],
      "metadata": {
        "colab": {
          "base_uri": "https://localhost:8080/"
        },
        "id": "Z4pbWqODtLQi",
        "outputId": "1b4cd33f-dad4-48a9-814f-122197269250"
      },
      "execution_count": null,
      "outputs": [
        {
          "output_type": "execute_result",
          "data": {
            "text/plain": [
              "(1, (3,), dtype('int64'), numpy.ndarray, 3)"
            ]
          },
          "metadata": {},
          "execution_count": 2
        }
      ]
    },
    {
      "cell_type": "code",
      "source": [
        "a1"
      ],
      "metadata": {
        "colab": {
          "base_uri": "https://localhost:8080/"
        },
        "id": "QVLJKOQ7uiZN",
        "outputId": "dd5a37bb-7f45-45b7-d924-bc8b9034a484"
      },
      "execution_count": null,
      "outputs": [
        {
          "output_type": "execute_result",
          "data": {
            "text/plain": [
              "array([1, 2, 3])"
            ]
          },
          "metadata": {},
          "execution_count": 3
        }
      ]
    },
    {
      "cell_type": "code",
      "source": [
        "a2 = np.array([[1,2,3],\n",
        "              [4,5,6]])\n",
        "a2.ndim, a2.shape, a2.dtype, type(a2), a2.size"
      ],
      "metadata": {
        "colab": {
          "base_uri": "https://localhost:8080/"
        },
        "id": "CgIIoV0guxPK",
        "outputId": "7bf94694-1ba7-4166-b6ae-bb5893428807"
      },
      "execution_count": null,
      "outputs": [
        {
          "output_type": "execute_result",
          "data": {
            "text/plain": [
              "(2, (2, 3), dtype('int64'), numpy.ndarray, 6)"
            ]
          },
          "metadata": {},
          "execution_count": 4
        }
      ]
    },
    {
      "cell_type": "code",
      "source": [
        "a3 = np.array([[[1, 2, 3],\n",
        "              [4, 5, 6]],\n",
        "              [[5, 6, 7],\n",
        "               [2, 3, 4]]])\n",
        "a3.ndim, a3.shape, a3.dtype, type(a3), a3.size"
      ],
      "metadata": {
        "colab": {
          "base_uri": "https://localhost:8080/"
        },
        "id": "6M1hRoNYvXcE",
        "outputId": "32b38640-cfbc-49a1-e314-a9397656eb16"
      },
      "execution_count": null,
      "outputs": [
        {
          "output_type": "execute_result",
          "data": {
            "text/plain": [
              "(3, (2, 2, 3), dtype('int64'), numpy.ndarray, 12)"
            ]
          },
          "metadata": {},
          "execution_count": 5
        }
      ]
    },
    {
      "cell_type": "code",
      "source": [
        "random_arr = np.random.randint(0, 10, size=(3, 2, 5, 3))\n",
        "random_arr.ndim, random_arr.shape, random_arr.dtype, type(random_arr), random_arr.size"
      ],
      "metadata": {
        "colab": {
          "base_uri": "https://localhost:8080/"
        },
        "id": "bA6akIqSwYVr",
        "outputId": "fc6d3cec-5bed-493e-e4de-4d5975aa428e"
      },
      "execution_count": null,
      "outputs": [
        {
          "output_type": "execute_result",
          "data": {
            "text/plain": [
              "(4, (3, 2, 5, 3), dtype('int64'), numpy.ndarray, 90)"
            ]
          },
          "metadata": {},
          "execution_count": 6
        }
      ]
    },
    {
      "cell_type": "code",
      "source": [
        "# random_arr = np.random.randint(0, 255, size=(300, 300, 3))\n",
        "# random_arr"
      ],
      "metadata": {
        "id": "K3hQoZ1dwsUX"
      },
      "execution_count": null,
      "outputs": []
    },
    {
      "cell_type": "code",
      "source": [
        "np.random.rand(100)"
      ],
      "metadata": {
        "colab": {
          "base_uri": "https://localhost:8080/"
        },
        "id": "EPWfr1PpyEDx",
        "outputId": "804bfcbc-3aa2-4bd0-8294-a8c93d7b4961"
      },
      "execution_count": null,
      "outputs": [
        {
          "output_type": "execute_result",
          "data": {
            "text/plain": [
              "array([0.94876712, 0.13670375, 0.25419297, 0.6545703 , 0.42720462,\n",
              "       0.98487057, 0.76264224, 0.43088874, 0.51703383, 0.66613589,\n",
              "       0.97057978, 0.93310159, 0.20930413, 0.11085202, 0.3659938 ,\n",
              "       0.42932348, 0.08230473, 0.86234905, 0.23322963, 0.45187005,\n",
              "       0.3778758 , 0.08619999, 0.95844873, 0.1299816 , 0.69079127,\n",
              "       0.69943686, 0.54049361, 0.89424335, 0.33790979, 0.85280292,\n",
              "       0.70350227, 0.05028305, 0.82841995, 0.39896814, 0.48901025,\n",
              "       0.07368358, 0.85929548, 0.62001997, 0.89509557, 0.32058456,\n",
              "       0.25226913, 0.89990094, 0.22943061, 0.16511046, 0.49378873,\n",
              "       0.6611792 , 0.7838228 , 0.78154968, 0.17417081, 0.42365935,\n",
              "       0.38704539, 0.82265039, 0.19456341, 0.13986868, 0.1052567 ,\n",
              "       0.5403302 , 0.8465687 , 0.5557568 , 0.6135    , 0.01815422,\n",
              "       0.78255374, 0.90527265, 0.14251548, 0.92418402, 0.8105198 ,\n",
              "       0.79482267, 0.75632723, 0.36491335, 0.93786111, 0.00549699,\n",
              "       0.74571481, 0.91386515, 0.13184718, 0.61096535, 0.60814634,\n",
              "       0.09905226, 0.23840905, 0.33781048, 0.51466033, 0.61885876,\n",
              "       0.78405461, 0.76233946, 0.54144038, 0.70743921, 0.28300843,\n",
              "       0.21608399, 0.78216031, 0.18295612, 0.33448491, 0.31225175,\n",
              "       0.47466462, 0.27987036, 0.93449937, 0.77822589, 0.14814873,\n",
              "       0.58311824, 0.78230993, 0.8175161 , 0.5147323 , 0.01907777])"
            ]
          },
          "metadata": {},
          "execution_count": 8
        }
      ]
    },
    {
      "cell_type": "code",
      "source": [
        "np.random.randn(100)"
      ],
      "metadata": {
        "colab": {
          "base_uri": "https://localhost:8080/"
        },
        "id": "Va0UnguEyTRR",
        "outputId": "1a618625-d492-4a47-a677-fb8f127770cb"
      },
      "execution_count": null,
      "outputs": [
        {
          "output_type": "execute_result",
          "data": {
            "text/plain": [
              "array([ 1.55378112, -0.79485011,  0.80774932,  1.1882387 , -2.31870065,\n",
              "       -1.50533745, -2.09515586,  1.09965935, -0.22627758, -2.05910093,\n",
              "        0.46025114, -0.98118245,  1.02935903,  1.2102024 ,  0.56546828,\n",
              "        1.51705113,  1.34718817, -0.48987043, -0.26454722, -1.18923535,\n",
              "       -0.67797054,  0.61936055, -0.44891475,  0.72034377, -1.05497271,\n",
              "        1.02516454, -0.5436104 ,  0.94018691, -1.2590642 , -1.1988523 ,\n",
              "       -0.81056157,  1.09661435, -0.44200298, -2.07249882,  1.04214798,\n",
              "        1.32805325, -1.31119079, -0.72728136,  0.1856199 , -0.61998536,\n",
              "       -1.86164055, -0.04488851,  0.62484867, -0.11554908, -1.28544867,\n",
              "       -0.69022742,  1.32782985,  0.04485882, -0.02455571, -1.89839561,\n",
              "       -0.31679816,  0.57123348,  0.17045138, -0.98234622, -0.04604119,\n",
              "       -1.65174839,  0.86017201, -0.07242638, -0.93286166, -1.2475298 ,\n",
              "        0.35031499, -0.50613799, -0.46736941, -1.20086516,  0.04513331,\n",
              "        1.19963095, -0.49123587,  0.66394961,  0.75495159, -0.99508473,\n",
              "        1.10876668,  1.0347219 ,  1.18590944,  0.01263626,  0.73665093,\n",
              "       -1.68762856, -0.85831878, -1.12711556, -1.84940567,  0.83573306,\n",
              "        0.73351826,  0.90972   ,  0.36447429, -0.68746497, -0.74682325,\n",
              "        1.37915916,  2.31349028, -1.06593058, -0.47704338,  0.90952163,\n",
              "       -0.43989909, -0.25023613, -0.6322769 ,  0.35278771,  0.20685265,\n",
              "        0.49722001, -1.44041167,  0.70194072, -1.14260589,  1.66682487])"
            ]
          },
          "metadata": {},
          "execution_count": 9
        }
      ]
    },
    {
      "cell_type": "code",
      "source": [
        "np.random.seed(1)\n",
        "random_arr = np.random.randint(1, 10, size=(5, 5))\n",
        "random_arr[2]"
      ],
      "metadata": {
        "id": "tI1dKQTbygfS",
        "colab": {
          "base_uri": "https://localhost:8080/"
        },
        "outputId": "4ffa4c01-74c7-4169-fd8a-a5ffdf88220e"
      },
      "execution_count": null,
      "outputs": [
        {
          "output_type": "execute_result",
          "data": {
            "text/plain": [
              "array([6, 3, 5, 3, 5])"
            ]
          },
          "metadata": {},
          "execution_count": 12
        }
      ]
    },
    {
      "cell_type": "code",
      "source": [
        "np.random.seed(1)\n",
        "random_arr = np.random.randint(1, 10, size=(2, 5, 5))\n",
        "random_arr[:, 2:, 2]"
      ],
      "metadata": {
        "colab": {
          "base_uri": "https://localhost:8080/"
        },
        "id": "H4tjbc6h9_C2",
        "outputId": "088f8246-8c45-473e-f540-c05a2f5c9fa8"
      },
      "execution_count": null,
      "outputs": [
        {
          "output_type": "execute_result",
          "data": {
            "text/plain": [
              "array([[5, 2, 7],\n",
              "       [9, 3, 8]])"
            ]
          },
          "metadata": {},
          "execution_count": 13
        }
      ]
    },
    {
      "cell_type": "code",
      "source": [
        "import time\n",
        "\n",
        "start = time.time()\n",
        "arr = np.arange(1000000)\n",
        "arr**20\n",
        "end = time.time()\n",
        "end - start"
      ],
      "metadata": {
        "colab": {
          "base_uri": "https://localhost:8080/"
        },
        "id": "Osl-1_dk_ySg",
        "outputId": "9769f6ac-767d-423f-9097-889fce238694"
      },
      "execution_count": null,
      "outputs": [
        {
          "output_type": "execute_result",
          "data": {
            "text/plain": [
              "0.0214078426361084"
            ]
          },
          "metadata": {},
          "execution_count": 15
        }
      ]
    },
    {
      "cell_type": "code",
      "source": [
        "a1 * 2"
      ],
      "metadata": {
        "colab": {
          "base_uri": "https://localhost:8080/"
        },
        "id": "C835LZMyAFIu",
        "outputId": "c7795cad-75b9-40de-cd29-dea92e4300e7"
      },
      "execution_count": null,
      "outputs": [
        {
          "output_type": "execute_result",
          "data": {
            "text/plain": [
              "array([2, 4, 6])"
            ]
          },
          "metadata": {},
          "execution_count": 16
        }
      ]
    },
    {
      "cell_type": "code",
      "source": [
        "a1 + a1"
      ],
      "metadata": {
        "colab": {
          "base_uri": "https://localhost:8080/"
        },
        "id": "7fPwKlurAri-",
        "outputId": "746005aa-0fb1-4622-f24c-8b12c6458846"
      },
      "execution_count": null,
      "outputs": [
        {
          "output_type": "execute_result",
          "data": {
            "text/plain": [
              "array([2, 4, 6])"
            ]
          },
          "metadata": {},
          "execution_count": 17
        }
      ]
    },
    {
      "cell_type": "code",
      "source": [
        "a2 + a1"
      ],
      "metadata": {
        "colab": {
          "base_uri": "https://localhost:8080/"
        },
        "id": "348sb72jBMKu",
        "outputId": "c852022f-b97b-4b0d-eb74-5bd22552c6fb"
      },
      "execution_count": null,
      "outputs": [
        {
          "output_type": "execute_result",
          "data": {
            "text/plain": [
              "array([[2, 4, 6],\n",
              "       [5, 7, 9]])"
            ]
          },
          "metadata": {},
          "execution_count": 18
        }
      ]
    },
    {
      "cell_type": "code",
      "source": [
        "a1.shape, a2.shape"
      ],
      "metadata": {
        "colab": {
          "base_uri": "https://localhost:8080/"
        },
        "id": "Ocf06kzNBOPk",
        "outputId": "dd1a1f54-e958-445b-9066-e52c406589fe"
      },
      "execution_count": null,
      "outputs": [
        {
          "output_type": "execute_result",
          "data": {
            "text/plain": [
              "((3,), (2, 3))"
            ]
          },
          "metadata": {},
          "execution_count": 19
        }
      ]
    },
    {
      "cell_type": "code",
      "source": [
        "a2.T"
      ],
      "metadata": {
        "colab": {
          "base_uri": "https://localhost:8080/"
        },
        "id": "yv1WvQoxBQRW",
        "outputId": "79b1732e-886a-47b8-ab34-f787519cc81e"
      },
      "execution_count": null,
      "outputs": [
        {
          "output_type": "execute_result",
          "data": {
            "text/plain": [
              "array([[1, 4],\n",
              "       [2, 5],\n",
              "       [3, 6]])"
            ]
          },
          "metadata": {},
          "execution_count": 20
        }
      ]
    },
    {
      "cell_type": "code",
      "source": [
        "a2.transpose()"
      ],
      "metadata": {
        "colab": {
          "base_uri": "https://localhost:8080/"
        },
        "id": "7EvNTc2ZDSWk",
        "outputId": "575185bc-a1ba-4d79-86f3-27d6edbaa33b"
      },
      "execution_count": null,
      "outputs": [
        {
          "output_type": "execute_result",
          "data": {
            "text/plain": [
              "array([[1, 4],\n",
              "       [2, 5],\n",
              "       [3, 6]])"
            ]
          },
          "metadata": {},
          "execution_count": 21
        }
      ]
    },
    {
      "cell_type": "code",
      "source": [
        "a2.shape, a2.T.shape"
      ],
      "metadata": {
        "colab": {
          "base_uri": "https://localhost:8080/"
        },
        "id": "rbGwrbpgDWV5",
        "outputId": "dace7699-dff5-49e4-8d0f-d5254b87fb6c"
      },
      "execution_count": null,
      "outputs": [
        {
          "output_type": "execute_result",
          "data": {
            "text/plain": [
              "((2, 3), (3, 2))"
            ]
          },
          "metadata": {},
          "execution_count": 22
        }
      ]
    },
    {
      "cell_type": "code",
      "source": [
        "a2 @ a2.T"
      ],
      "metadata": {
        "colab": {
          "base_uri": "https://localhost:8080/"
        },
        "id": "PEPd8JbTERCw",
        "outputId": "b32c0cb2-4f0e-4e1d-b189-3f490c3468a6"
      },
      "execution_count": null,
      "outputs": [
        {
          "output_type": "execute_result",
          "data": {
            "text/plain": [
              "array([[14, 32],\n",
              "       [32, 77]])"
            ]
          },
          "metadata": {},
          "execution_count": 23
        }
      ]
    },
    {
      "cell_type": "code",
      "source": [
        "np.dot(a2, a2.T)"
      ],
      "metadata": {
        "colab": {
          "base_uri": "https://localhost:8080/"
        },
        "id": "HyTAgWwHETOb",
        "outputId": "baf4e88f-f571-4f60-dc31-a643d6567ca3"
      },
      "execution_count": null,
      "outputs": [
        {
          "output_type": "execute_result",
          "data": {
            "text/plain": [
              "array([[14, 32],\n",
              "       [32, 77]])"
            ]
          },
          "metadata": {},
          "execution_count": 24
        }
      ]
    },
    {
      "cell_type": "code",
      "source": [
        "np.matmul(a2, a2.T)"
      ],
      "metadata": {
        "colab": {
          "base_uri": "https://localhost:8080/"
        },
        "id": "ZnVp32IcEie3",
        "outputId": "a9d7c269-c67d-4e45-da4c-094337da1e60"
      },
      "execution_count": null,
      "outputs": [
        {
          "output_type": "execute_result",
          "data": {
            "text/plain": [
              "array([[14, 32],\n",
              "       [32, 77]])"
            ]
          },
          "metadata": {},
          "execution_count": 25
        }
      ]
    },
    {
      "cell_type": "code",
      "source": [
        "np.zeros(shape = (5, 5))"
      ],
      "metadata": {
        "colab": {
          "base_uri": "https://localhost:8080/"
        },
        "id": "pZ18--RuElpF",
        "outputId": "a109b3be-21b8-4158-820f-ccdd1ce2b788"
      },
      "execution_count": null,
      "outputs": [
        {
          "output_type": "execute_result",
          "data": {
            "text/plain": [
              "array([[0., 0., 0., 0., 0.],\n",
              "       [0., 0., 0., 0., 0.],\n",
              "       [0., 0., 0., 0., 0.],\n",
              "       [0., 0., 0., 0., 0.],\n",
              "       [0., 0., 0., 0., 0.]])"
            ]
          },
          "metadata": {},
          "execution_count": 26
        }
      ]
    },
    {
      "cell_type": "code",
      "source": [
        "np.ones(shape = (5, 5))"
      ],
      "metadata": {
        "colab": {
          "base_uri": "https://localhost:8080/"
        },
        "id": "tWM-suggFF3c",
        "outputId": "526e3e6b-7971-47de-a18b-4f102c8f70b7"
      },
      "execution_count": null,
      "outputs": [
        {
          "output_type": "execute_result",
          "data": {
            "text/plain": [
              "array([[1., 1., 1., 1., 1.],\n",
              "       [1., 1., 1., 1., 1.],\n",
              "       [1., 1., 1., 1., 1.],\n",
              "       [1., 1., 1., 1., 1.],\n",
              "       [1., 1., 1., 1., 1.]])"
            ]
          },
          "metadata": {},
          "execution_count": 27
        }
      ]
    },
    {
      "cell_type": "code",
      "source": [
        "np.std(a3)"
      ],
      "metadata": {
        "colab": {
          "base_uri": "https://localhost:8080/"
        },
        "id": "YE2uOBscFL-2",
        "outputId": "f22d1e70-e0b1-4396-e0ee-c4f2c14bb768"
      },
      "execution_count": null,
      "outputs": [
        {
          "output_type": "execute_result",
          "data": {
            "text/plain": [
              "1.7795130420052185"
            ]
          },
          "metadata": {},
          "execution_count": 28
        }
      ]
    },
    {
      "cell_type": "code",
      "source": [
        "np.var(a3)"
      ],
      "metadata": {
        "colab": {
          "base_uri": "https://localhost:8080/"
        },
        "id": "BmWRLH7YFbJA",
        "outputId": "7ad30218-5ff0-4185-a365-d181a9bf5ae6"
      },
      "execution_count": null,
      "outputs": [
        {
          "output_type": "execute_result",
          "data": {
            "text/plain": [
              "3.1666666666666665"
            ]
          },
          "metadata": {},
          "execution_count": 29
        }
      ]
    },
    {
      "cell_type": "code",
      "source": [
        "np.std(a3)"
      ],
      "metadata": {
        "colab": {
          "base_uri": "https://localhost:8080/"
        },
        "id": "TxeU8lmdFeD3",
        "outputId": "75e0f4af-5191-4fd2-e762-7862fb3b0ca8"
      },
      "execution_count": null,
      "outputs": [
        {
          "output_type": "execute_result",
          "data": {
            "text/plain": [
              "1.7795130420052185"
            ]
          },
          "metadata": {},
          "execution_count": 30
        }
      ]
    },
    {
      "cell_type": "code",
      "source": [
        "np.sum(a3)"
      ],
      "metadata": {
        "colab": {
          "base_uri": "https://localhost:8080/"
        },
        "id": "6ybh--J_F5SR",
        "outputId": "9b798eb6-8f68-4df6-ddf1-71a05819daf6"
      },
      "execution_count": null,
      "outputs": [
        {
          "output_type": "execute_result",
          "data": {
            "text/plain": [
              "48"
            ]
          },
          "metadata": {},
          "execution_count": 31
        }
      ]
    },
    {
      "cell_type": "code",
      "source": [
        "a3"
      ],
      "metadata": {
        "id": "8Z7Kg2bkF_fo",
        "outputId": "a1289576-4c5a-4ab7-c39c-0b99ccc49a67",
        "colab": {
          "base_uri": "https://localhost:8080/"
        }
      },
      "execution_count": null,
      "outputs": [
        {
          "output_type": "execute_result",
          "data": {
            "text/plain": [
              "array([[[1, 2, 3],\n",
              "        [4, 5, 6]],\n",
              "\n",
              "       [[5, 6, 7],\n",
              "        [2, 3, 4]]])"
            ]
          },
          "metadata": {},
          "execution_count": 32
        }
      ]
    },
    {
      "cell_type": "code",
      "source": [],
      "metadata": {
        "id": "45uj2bD4GBOp"
      },
      "execution_count": null,
      "outputs": []
    }
  ]
}